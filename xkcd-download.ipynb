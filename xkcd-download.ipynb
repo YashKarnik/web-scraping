{
 "cells": [
  {
   "cell_type": "markdown",
   "metadata": {},
   "source": [
    "## Importing Essential Libraries"
   ]
  },
  {
   "cell_type": "code",
   "execution_count": 16,
   "metadata": {},
   "outputs": [],
   "source": [
    "import urllib\n",
    "import bs4\n",
    "import requests"
   ]
  },
  {
   "cell_type": "markdown",
   "metadata": {},
   "source": [
    "## Get comic source and title "
   ]
  },
  {
   "cell_type": "code",
   "execution_count": 18,
   "metadata": {},
   "outputs": [
    {
     "name": "stdout",
     "output_type": "stream",
     "text": [
      "10.0%\n",
      "20.0%\n",
      "30.0%\n",
      "40.0%\n",
      "50.0%\n",
      "60.0%\n",
      "70.0%\n",
      "80.0%\n",
      "90.0%\n"
     ]
    }
   ],
   "source": [
    "comics=[]\n",
    "c=1\n",
    "for i in range(1,10):\n",
    "    source=requests.get('https://xkcd.com/{}/'.format(i)).text\n",
    "    soup=bs4.BeautifulSoup(source,'html.parser')\n",
    "    print(str(100*c/10)+'%')\n",
    "    c+=1\n",
    "    comic=soup.find('div',{'id':'comic'}).find('img')\n",
    "    title=comic['title']\n",
    "    src='https://'+comic['src'][2:]\n",
    "    comics.append({'title':title,'src':src})"
   ]
  },
  {
   "cell_type": "markdown",
   "metadata": {},
   "source": [
    "## Create essential directories"
   ]
  },
  {
   "cell_type": "code",
   "execution_count": 19,
   "metadata": {},
   "outputs": [],
   "source": [
    "import os\n",
    "try:\n",
    "    os.mkdir('./Comics')\n",
    "    os.mkdir('./Comics/XKCD')\n",
    "    os.mkdir('./Comics/XKCD/PDFS')\n",
    "except Exception as e:\n",
    "    pass"
   ]
  },
  {
   "cell_type": "markdown",
   "metadata": {},
   "source": [
    "\n",
    "## Save comics as .jpg file"
   ]
  },
  {
   "cell_type": "code",
   "execution_count": 20,
   "metadata": {},
   "outputs": [
    {
     "name": "stdout",
     "output_type": "stream",
     "text": [
      "11.11111111111111%\n",
      "22.22222222222222%\n",
      "33.333333333333336%\n",
      "44.44444444444444%\n",
      "55.55555555555556%\n",
      "66.66666666666667%\n",
      "77.77777777777777%\n",
      "88.88888888888889%\n",
      "100.0%\n"
     ]
    }
   ],
   "source": [
    "destination_folder='./Comics/XKCD'\n",
    "c=1\n",
    "for i in comics:\n",
    "    print(str(100*c/len(comics))+'%')\n",
    "    c+=1\n",
    "    path=destination_folder+i['title']+'.jpg'\n",
    "    urllib.request.urlretrieve(i['src'],path)"
   ]
  },
  {
   "cell_type": "markdown",
   "metadata": {},
   "source": [
    "## (Optional) Save Downloaded comics as pdfs"
   ]
  },
  {
   "cell_type": "code",
   "execution_count": 21,
   "metadata": {},
   "outputs": [],
   "source": [
    "import img2pdf\n",
    "import glob"
   ]
  },
  {
   "cell_type": "code",
   "execution_count": 22,
   "metadata": {},
   "outputs": [],
   "source": [
    "downloaded=glob.glob('./Comics/XKCD*.jpg')"
   ]
  },
  {
   "cell_type": "code",
   "execution_count": 23,
   "metadata": {},
   "outputs": [],
   "source": [
    "for i in downloaded:\n",
    "    filename='./Comics/XKCD/PDFS/'+i.split('\\\\')[-1][:-5]\n",
    "    with open(filename+\".pdf\",\"wb\") as f:\n",
    "        f.write(img2pdf.convert(i))"
   ]
  }
 ],
 "metadata": {
  "kernelspec": {
   "display_name": "Python 3",
   "language": "python",
   "name": "python3"
  },
  "language_info": {
   "codemirror_mode": {
    "name": "ipython",
    "version": 3
   },
   "file_extension": ".py",
   "mimetype": "text/x-python",
   "name": "python",
   "nbconvert_exporter": "python",
   "pygments_lexer": "ipython3",
   "version": "3.8.5"
  }
 },
 "nbformat": 4,
 "nbformat_minor": 4
}
